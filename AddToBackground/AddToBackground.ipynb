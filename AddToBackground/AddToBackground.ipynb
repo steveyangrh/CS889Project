{
 "cells": [
  {
   "cell_type": "code",
   "execution_count": 2,
   "metadata": {},
   "outputs": [],
   "source": [
    "# standard setup\n",
    "%matplotlib inline\n",
    "import numpy as np\n",
    "import matplotlib.pyplot as plt\n",
    "import cv2"
   ]
  },
  {
   "cell_type": "code",
   "execution_count": null,
   "metadata": {},
   "outputs": [],
   "source": [
    "def add2BG(img,BG,location):\n",
    "    "
   ]
  },
  {
   "cell_type": "code",
   "execution_count": null,
   "metadata": {},
   "outputs": [],
   "source": [
    "cap=cv2.VideoCapture(0)\n",
    "\n",
    "fgbg=cv2.createBackgroundSubtractorMOG2()\n",
    "history = 100\n",
    "\n",
    "background_capture = \n",
    "cv2.VideoCapture('/house.mp4')\n",
    "\n",
    "while True:\n",
    "\n",
    "    frame = get_frame(cap, 0.5)\n",
    "\n",
    "    ret, background = background_capture.read()\n",
    "    background=cv2.resize(background, (640,480), interpolation = \n",
    "    cv2.INTER_AREA)\n",
    "    ret, frame = cap.read()\n",
    "       # gray=cv2.cvtColor(frame, cv2.COLOR_BGR2GRAY)\n",
    "    mask=fgbg.apply(frame,learningRate=1.0//history)\n",
    "    #convert from grayscale to RGB\n",
    "    gray=cv2.cvtColor(frame, cv2.COLOR_GRAY2RGB)\n",
    "\n",
    "\n",
    "    bitwise= cv2.bitwise_and(background,background, mask = mask)\n",
    "    gaussian = cv2.GaussianBlur(bitwise, (5, 5), 10)\n",
    "    add=cv2.add(background,gaussian)\n",
    "    add=cv2.resize(add, (1366,768), interpolation = cv2.INTER_AREA)\n",
    "\n",
    "\n",
    "\n",
    "    cv2.imshow('add',add)\n",
    "\n",
    "    k=cv2.waitKey(30) & 0xff\n",
    "    if k==27:\n",
    "       break\n",
    "\n",
    "cap.release()\n",
    "cv2.destroyAllWindows()"
   ]
  },
  {
   "cell_type": "code",
   "execution_count": null,
   "metadata": {},
   "outputs": [],
   "source": []
  }
 ],
 "metadata": {
  "kernelspec": {
   "display_name": "Python 3",
   "language": "python",
   "name": "python3"
  },
  "language_info": {
   "codemirror_mode": {
    "name": "ipython",
    "version": 3
   },
   "file_extension": ".py",
   "mimetype": "text/x-python",
   "name": "python",
   "nbconvert_exporter": "python",
   "pygments_lexer": "ipython3",
   "version": "3.6.2"
  }
 },
 "nbformat": 4,
 "nbformat_minor": 2
}
